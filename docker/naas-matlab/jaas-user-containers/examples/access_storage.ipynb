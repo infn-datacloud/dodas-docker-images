{
 "cells": [
  {
   "cell_type": "code",
   "execution_count": null,
   "id": "48437cbe",
   "metadata": {},
   "outputs": [],
   "source": [
    "from boto3sts import credentials as creds\n",
    "import boto3\n",
    "import os"
   ]
  },
  {
   "cell_type": "code",
   "execution_count": null,
   "id": "9c15bd19",
   "metadata": {},
   "outputs": [],
   "source": [
    "# oidc agent profile already configured in this server \n",
    "!oidc-gen -l"
   ]
  },
  {
   "cell_type": "code",
   "execution_count": null,
   "id": "5bcb74a7",
   "metadata": {
    "scrolled": true
   },
   "outputs": [],
   "source": [
    "# oidc-agent environment variables\n",
    "!oidc-keychain"
   ]
  },
  {
   "cell_type": "code",
   "execution_count": null,
   "id": "e6f2a606",
   "metadata": {},
   "outputs": [],
   "source": [
    "os.environ[\"OIDC_SOCK\"] = \"CHANGE_OIDC_SOCK VALUE\""
   ]
  },
  {
   "cell_type": "code",
   "execution_count": null,
   "id": "2a14f961",
   "metadata": {},
   "outputs": [],
   "source": [
    "# Get your refreshble credentials session with the oidc-agent profile named e.g.: dodas_oidc-agen-profile\n",
    "aws_session = creds.assumed_session(\"infncloud\")\n",
    "\n",
    "# Use the generated session for all the data operations on an s3 bucket\n",
    "s3 = aws_session.client('s3', endpoint_url=\"https://minio.cloud.infn.it/\", config=boto3.session.Config(signature_version='s3v4'),\n",
    "                                                verify=True)"
   ]
  },
  {
   "cell_type": "code",
   "execution_count": null,
   "id": "b2531743",
   "metadata": {},
   "outputs": [],
   "source": [
    "# Show files in a bucket\n",
    "\n",
    "for key in s3.list_objects(Bucket='CHAMGE_BUCKET_NAME')['Contents']:\n",
    "        print(key['Key'])"
   ]
  },
  {
   "cell_type": "code",
   "execution_count": null,
   "id": "5d4e6771",
   "metadata": {},
   "outputs": [],
   "source": [
    "# Attributes of s3 object\n",
    "# print(dir(s3))"
   ]
  },
  {
   "cell_type": "code",
   "execution_count": null,
   "id": "77a3530f",
   "metadata": {},
   "outputs": [],
   "source": [
    "# The current directory\n",
    "os.getcwd()"
   ]
  },
  {
   "cell_type": "code",
   "execution_count": null,
   "id": "12408923",
   "metadata": {},
   "outputs": [],
   "source": [
    "# Download a file from Minio to the current workarea specifying your bucket name",
    "s3.download_file('CHANGE_BUCKET','REMOTE_PATH_FILE', 'LOCAL_PATH_FILE')"
   ]
  },
  {
   "cell_type": "code",
   "execution_count": null,
   "id": "e970a5cc",
   "metadata": {},
   "outputs": [],
   "source": [
    "# Content of the workarea\n",
    "for entry in os.scandir():\n",
    "    print(entry)"
   ]
  },
  {
   "cell_type": "code",
   "execution_count": null,
   "id": "50a049d5",
   "metadata": {},
   "outputs": [],
   "source": []
  }
 ],
 "metadata": {
  "kernelspec": {
   "display_name": "Python 3",
   "language": "python",
   "name": "python3"
  },
  "language_info": {
   "codemirror_mode": {
    "name": "ipython",
    "version": 3
   },
   "file_extension": ".py",
   "mimetype": "text/x-python",
   "name": "python",
   "nbconvert_exporter": "python",
   "pygments_lexer": "ipython3",
   "version": "3.6.9"
  }
 },
 "nbformat": 4,
 "nbformat_minor": 5
}
